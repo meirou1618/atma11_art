{
 "cells": [
  {
   "cell_type": "code",
   "execution_count": 2,
   "source": [
    "import os\n",
    "import pandas as pd\n",
    "from glob import glob\n",
    "import matplotlib.pyplot as plt\n",
    "import seaborn as sns\n",
    "import numpy as np"
   ],
   "outputs": [],
   "metadata": {}
  },
  {
   "cell_type": "code",
   "execution_count": 3,
   "source": [
    "!pip install python-vivid"
   ],
   "outputs": [
    {
     "output_type": "stream",
     "name": "stdout",
     "text": [
      "\u001b[33mWARNING: Keyring is skipped due to an exception: Failed to create the collection: Prompt dismissed..\u001b[0m\n",
      "Collecting python-vivid\n",
      "  Downloading python_vivid-0.3.3.4-py3-none-any.whl (76 kB)\n",
      "\u001b[K     |████████████████████████████████| 76 kB 762 kB/s \n",
      "\u001b[?25hRequirement already satisfied: scikit-learn in /home/sato.mizuki/anaconda3/lib/python3.8/site-packages (from python-vivid) (0.24.1)\n",
      "Collecting optuna\n",
      "  Downloading optuna-2.8.0-py3-none-any.whl (301 kB)\n",
      "\u001b[K     |████████████████████████████████| 301 kB 10.6 MB/s \n",
      "\u001b[?25hCollecting tabulate\n",
      "  Downloading tabulate-0.8.9-py3-none-any.whl (25 kB)\n",
      "Requirement already satisfied: matplotlib in /home/sato.mizuki/anaconda3/lib/python3.8/site-packages (from python-vivid) (3.3.4)\n",
      "Requirement already satisfied: networkx in /home/sato.mizuki/anaconda3/lib/python3.8/site-packages (from python-vivid) (2.5)\n",
      "Requirement already satisfied: joblib in /home/sato.mizuki/anaconda3/lib/python3.8/site-packages (from python-vivid) (1.0.1)\n",
      "Requirement already satisfied: seaborn in /home/sato.mizuki/anaconda3/lib/python3.8/site-packages (from python-vivid) (0.11.1)\n",
      "Requirement already satisfied: scipy in /home/sato.mizuki/anaconda3/lib/python3.8/site-packages (from python-vivid) (1.6.2)\n",
      "Requirement already satisfied: tqdm in /home/sato.mizuki/anaconda3/lib/python3.8/site-packages (from python-vivid) (4.59.0)\n",
      "Collecting xgboost\n",
      "  Downloading xgboost-1.4.2-py3-none-manylinux2010_x86_64.whl (166.7 MB)\n",
      "\u001b[K     |████████████████████████████████| 166.7 MB 17 kB/s \n",
      "\u001b[?25hRequirement already satisfied: numpy in /home/sato.mizuki/anaconda3/lib/python3.8/site-packages (from python-vivid) (1.19.2)\n",
      "Collecting feather-format\n",
      "  Downloading feather-format-0.4.1.tar.gz (3.2 kB)\n",
      "Requirement already satisfied: lightgbm in /home/sato.mizuki/anaconda3/lib/python3.8/site-packages (from python-vivid) (3.1.1)\n",
      "Requirement already satisfied: pandas in /home/sato.mizuki/anaconda3/lib/python3.8/site-packages (from python-vivid) (1.2.3)\n",
      "Collecting pyarrow>=0.4.0\n",
      "  Downloading pyarrow-4.0.1-cp38-cp38-manylinux2014_x86_64.whl (21.9 MB)\n",
      "\u001b[K     |████████████████████████████████| 21.9 MB 94.1 MB/s \n",
      "\u001b[?25hRequirement already satisfied: wheel in /home/sato.mizuki/anaconda3/lib/python3.8/site-packages (from lightgbm->python-vivid) (0.36.2)\n",
      "Requirement already satisfied: threadpoolctl>=2.0.0 in /home/sato.mizuki/anaconda3/lib/python3.8/site-packages (from scikit-learn->python-vivid) (2.1.0)\n",
      "Requirement already satisfied: pillow>=6.2.0 in /home/sato.mizuki/anaconda3/lib/python3.8/site-packages (from matplotlib->python-vivid) (8.1.2)\n",
      "Requirement already satisfied: kiwisolver>=1.0.1 in /home/sato.mizuki/anaconda3/lib/python3.8/site-packages (from matplotlib->python-vivid) (1.3.1)\n",
      "Requirement already satisfied: python-dateutil>=2.1 in /home/sato.mizuki/anaconda3/lib/python3.8/site-packages (from matplotlib->python-vivid) (2.8.1)\n",
      "Requirement already satisfied: cycler>=0.10 in /home/sato.mizuki/anaconda3/lib/python3.8/site-packages (from matplotlib->python-vivid) (0.10.0)\n",
      "Requirement already satisfied: pyparsing!=2.0.4,!=2.1.2,!=2.1.6,>=2.0.3 in /home/sato.mizuki/anaconda3/lib/python3.8/site-packages (from matplotlib->python-vivid) (2.4.7)\n",
      "Requirement already satisfied: six in /home/sato.mizuki/anaconda3/lib/python3.8/site-packages (from cycler>=0.10->matplotlib->python-vivid) (1.15.0)\n",
      "Requirement already satisfied: decorator>=4.3.0 in /home/sato.mizuki/anaconda3/lib/python3.8/site-packages (from networkx->python-vivid) (4.4.2)\n",
      "Requirement already satisfied: packaging>=20.0 in /home/sato.mizuki/anaconda3/lib/python3.8/site-packages (from optuna->python-vivid) (20.9)\n",
      "Requirement already satisfied: sqlalchemy>=1.1.0 in /home/sato.mizuki/anaconda3/lib/python3.8/site-packages (from optuna->python-vivid) (1.4.4)\n",
      "Collecting cmaes>=0.8.2\n",
      "  Downloading cmaes-0.8.2-py3-none-any.whl (15 kB)\n",
      "Collecting colorlog\n",
      "  Downloading colorlog-5.0.1-py2.py3-none-any.whl (10 kB)\n",
      "Collecting alembic\n",
      "  Downloading alembic-1.6.5-py2.py3-none-any.whl (164 kB)\n",
      "\u001b[K     |████████████████████████████████| 164 kB 85.4 MB/s \n",
      "\u001b[?25hCollecting cliff\n",
      "  Downloading cliff-3.8.0-py3-none-any.whl (80 kB)\n",
      "\u001b[K     |████████████████████████████████| 80 kB 1.6 MB/s \n",
      "\u001b[?25hRequirement already satisfied: greenlet!=0.4.17 in /home/sato.mizuki/anaconda3/lib/python3.8/site-packages (from sqlalchemy>=1.1.0->optuna->python-vivid) (1.0.0)\n",
      "Collecting Mako\n",
      "  Downloading Mako-1.1.4-py2.py3-none-any.whl (75 kB)\n",
      "\u001b[K     |████████████████████████████████| 75 kB 829 kB/s \n",
      "\u001b[?25hCollecting python-editor>=0.3\n",
      "  Downloading python_editor-1.0.4-py3-none-any.whl (4.9 kB)\n",
      "Collecting stevedore>=2.0.1\n",
      "  Downloading stevedore-3.3.0-py3-none-any.whl (49 kB)\n",
      "\u001b[K     |████████████████████████████████| 49 kB 974 kB/s \n",
      "\u001b[?25hCollecting PrettyTable>=0.7.2\n",
      "  Downloading prettytable-2.1.0-py3-none-any.whl (22 kB)\n",
      "Collecting pbr!=2.1.0,>=2.0.0\n",
      "  Downloading pbr-5.6.0-py2.py3-none-any.whl (111 kB)\n",
      "\u001b[K     |████████████████████████████████| 111 kB 70.8 MB/s \n",
      "\u001b[?25hCollecting cmd2>=1.0.0\n",
      "  Downloading cmd2-2.1.2-py3-none-any.whl (141 kB)\n",
      "\u001b[K     |████████████████████████████████| 141 kB 42.1 MB/s \n",
      "\u001b[?25hRequirement already satisfied: PyYAML>=3.12 in /home/sato.mizuki/anaconda3/lib/python3.8/site-packages (from cliff->optuna->python-vivid) (5.4.1)\n",
      "Collecting pyperclip>=1.6\n",
      "  Downloading pyperclip-1.8.2.tar.gz (20 kB)\n",
      "Requirement already satisfied: colorama>=0.3.7 in /home/sato.mizuki/anaconda3/lib/python3.8/site-packages (from cmd2>=1.0.0->cliff->optuna->python-vivid) (0.4.4)\n",
      "Requirement already satisfied: wcwidth>=0.1.7 in /home/sato.mizuki/anaconda3/lib/python3.8/site-packages (from cmd2>=1.0.0->cliff->optuna->python-vivid) (0.2.5)\n",
      "Requirement already satisfied: attrs>=16.3.0 in /home/sato.mizuki/anaconda3/lib/python3.8/site-packages (from cmd2>=1.0.0->cliff->optuna->python-vivid) (20.3.0)\n",
      "Requirement already satisfied: MarkupSafe>=0.9.2 in /home/sato.mizuki/anaconda3/lib/python3.8/site-packages (from Mako->alembic->optuna->python-vivid) (1.1.1)\n",
      "Requirement already satisfied: pytz>=2017.3 in /home/sato.mizuki/anaconda3/lib/python3.8/site-packages (from pandas->python-vivid) (2021.1)\n",
      "Building wheels for collected packages: feather-format, pyperclip\n",
      "  Building wheel for feather-format (setup.py) ... \u001b[?25ldone\n",
      "\u001b[?25h  Created wheel for feather-format: filename=feather_format-0.4.1-py3-none-any.whl size=2453 sha256=b96560b82953628b77eee993697b578eb59954958095ef9297fa8d744351bcf8\n",
      "  Stored in directory: /home/sato.mizuki/.cache/pip/wheels/7b/83/4b/44aa8f2292c0ae17a550c5105454e974fc45a5b2a522d66ae1\n",
      "  Building wheel for pyperclip (setup.py) ... \u001b[?25ldone\n",
      "\u001b[?25h  Created wheel for pyperclip: filename=pyperclip-1.8.2-py3-none-any.whl size=11107 sha256=ce62f27a2fe152eac2d83c24a2f021457141596e8c6374ea9aeee5351d530ff0\n",
      "  Stored in directory: /home/sato.mizuki/.cache/pip/wheels/7f/1a/65/84ff8c386bec21fca6d220ea1f5498a0367883a78dd5ba6122\n",
      "Successfully built feather-format pyperclip\n",
      "Installing collected packages: pyperclip, pbr, stevedore, python-editor, PrettyTable, Mako, cmd2, pyarrow, colorlog, cmaes, cliff, alembic, xgboost, tabulate, optuna, feather-format, python-vivid\n",
      "Successfully installed Mako-1.1.4 PrettyTable-2.1.0 alembic-1.6.5 cliff-3.8.0 cmaes-0.8.2 cmd2-2.1.2 colorlog-5.0.1 feather-format-0.4.1 optuna-2.8.0 pbr-5.6.0 pyarrow-4.0.1 pyperclip-1.8.2 python-editor-1.0.4 python-vivid-0.3.3.4 stevedore-3.3.0 tabulate-0.8.9 xgboost-1.4.2\n"
     ]
    }
   ],
   "metadata": {}
  },
  {
   "cell_type": "code",
   "execution_count": 3,
   "source": [
    "INPUT_data = 'data/'\n",
    "INPUT_photo = os.path.join(INPUT_data, 'photos/')\n",
    "\n",
    "OUTPUT = 'out_put/'\n",
    "os.makedirs(OUTPUT, exist_ok=True)\n",
    "\n",
    "photo_pathes = glob(os.path.join(INPUT_photo, '*.jpg'))"
   ],
   "outputs": [],
   "metadata": {}
  },
  {
   "cell_type": "code",
   "execution_count": null,
   "source": [],
   "outputs": [],
   "metadata": {}
  },
  {
   "cell_type": "code",
   "execution_count": 4,
   "source": [
    "train_df = pd.read_csv(os.path.join(INPUT_data, 'train.csv'))\n",
    "test_df = pd.read_csv(os.path.join(INPUT_data, 'test.csv'))\n",
    "\n",
    "material_df = pd.read_csv(os.path.join(INPUT_data, 'materials.csv'))\n",
    "technique_df = pd.read_csv(os.path.join(INPUT_data, 'techniques.csv'))"
   ],
   "outputs": [],
   "metadata": {}
  },
  {
   "cell_type": "code",
   "execution_count": 5,
   "source": [
    "from matplotlib_venn import venn2"
   ],
   "outputs": [],
   "metadata": {}
  },
  {
   "cell_type": "code",
   "execution_count": 6,
   "source": [
    "input_df = technique_df\n",
    "\n",
    "fig, axes = plt.subplots(figsize=(12,5), ncols=2)\n",
    "\n",
    "venn2(subsets=(\n",
    "    set(train_df['object_id']), set(input_df['object_id'])),set_labels=('train', 'input'), ax=axes[0])\n",
    "\n",
    "venn2(subsets = (set(test_df['object_id']), set(input_df['object_id'])), set_labels=('test', 'input'), ax=axes[1])"
   ],
   "outputs": [
    {
     "output_type": "execute_result",
     "data": {
      "text/plain": [
       "<matplotlib_venn._common.VennDiagram at 0x7f43a1ba7a60>"
      ]
     },
     "metadata": {},
     "execution_count": 6
    },
    {
     "output_type": "display_data",
     "data": {
      "text/plain": [
       "<Figure size 864x360 with 2 Axes>"
      ],
      "image/png": "[encoded data removed]"
     },
     "metadata": {}
    }
   ],
   "metadata": {}
  },
  {
   "cell_type": "code",
   "execution_count": 7,
   "source": [
    "input_df = material_df\n",
    "\n",
    "fig, axes = plt.subplots(figsize=(12,5), ncols=2)\n",
    "\n",
    "venn2(subsets=(set(train_df['object_id']), set(input_df['object_id'])), set_labels=('train', 'input'), ax=axes[0])\n",
    "venn2(subsets=(set(test_df['object_id']), set(input_df['object_id'])), set_labels=('test', 'input'), ax=axes[1])"
   ],
   "outputs": [
    {
     "output_type": "execute_result",
     "data": {
      "text/plain": [
       "<matplotlib_venn._common.VennDiagram at 0x7f43a1547e80>"
      ]
     },
     "metadata": {},
     "execution_count": 7
    },
    {
     "output_type": "display_data",
     "data": {
      "text/plain": [
       "<Figure size 864x360 with 2 Axes>"
      ],
      "image/png": "[encoded data removed]"
     },
     "metadata": {}
    }
   ],
   "metadata": {}
  },
  {
   "cell_type": "code",
   "execution_count": 9,
   "source": [
    "train_df.head()"
   ],
   "outputs": [
    {
     "output_type": "execute_result",
     "data": {
      "text/plain": [
       "              object_id  sorting_date         art_series_id  target\n",
       "0  002bff09b09998d0be65          1631  509357f67692a6a45626       1\n",
       "1  00309fb1ef05416f9c1f          1900  7987b47bbe5dc3039179       3\n",
       "2  003a1562e97f79ba96dc          1834  ded7c3c9636708e5b14c       3\n",
       "3  004890880e8e7431147b          1743  582ac2d7f0cef195b605       2\n",
       "4  00718c32602425f504c1          1885  64c907f0c08dce4fb8e8       3"
      ],
      "text/html": [
       "<div>\n",
       "<style scoped>\n",
       "    .dataframe tbody tr th:only-of-type {\n",
       "        vertical-align: middle;\n",
       "    }\n",
       "\n",
       "    .dataframe tbody tr th {\n",
       "        vertical-align: top;\n",
       "    }\n",
       "\n",
       "    .dataframe thead th {\n",
       "        text-align: right;\n",
       "    }\n",
       "</style>\n",
       "<table border=\"1\" class=\"dataframe\">\n",
       "  <thead>\n",
       "    <tr style=\"text-align: right;\">\n",
       "      <th></th>\n",
       "      <th>object_id</th>\n",
       "      <th>sorting_date</th>\n",
       "      <th>art_series_id</th>\n",
       "      <th>target</th>\n",
       "    </tr>\n",
       "  </thead>\n",
       "  <tbody>\n",
       "    <tr>\n",
       "      <th>0</th>\n",
       "      <td>002bff09b09998d0be65</td>\n",
       "      <td>1631</td>\n",
       "      <td>509357f67692a6a45626</td>\n",
       "      <td>1</td>\n",
       "    </tr>\n",
       "    <tr>\n",
       "      <th>1</th>\n",
       "      <td>00309fb1ef05416f9c1f</td>\n",
       "      <td>1900</td>\n",
       "      <td>7987b47bbe5dc3039179</td>\n",
       "      <td>3</td>\n",
       "    </tr>\n",
       "    <tr>\n",
       "      <th>2</th>\n",
       "      <td>003a1562e97f79ba96dc</td>\n",
       "      <td>1834</td>\n",
       "      <td>ded7c3c9636708e5b14c</td>\n",
       "      <td>3</td>\n",
       "    </tr>\n",
       "    <tr>\n",
       "      <th>3</th>\n",
       "      <td>004890880e8e7431147b</td>\n",
       "      <td>1743</td>\n",
       "      <td>582ac2d7f0cef195b605</td>\n",
       "      <td>2</td>\n",
       "    </tr>\n",
       "    <tr>\n",
       "      <th>4</th>\n",
       "      <td>00718c32602425f504c1</td>\n",
       "      <td>1885</td>\n",
       "      <td>64c907f0c08dce4fb8e8</td>\n",
       "      <td>3</td>\n",
       "    </tr>\n",
       "  </tbody>\n",
       "</table>\n",
       "</div>"
      ]
     },
     "metadata": {},
     "execution_count": 9
    }
   ],
   "metadata": {}
  },
  {
   "cell_type": "code",
   "execution_count": 10,
   "source": [
    "fig, ax = plt.subplots(figsize=(8,4))\n",
    "sns.countplot(data=train_df, x='target', ax=ax)\n",
    "ax.grid()"
   ],
   "outputs": [
    {
     "output_type": "display_data",
     "data": {
      "text/plain": [
       "<Figure size 576x288 with 1 Axes>"
      ],
      "image/png": "[encoded data removed]"
     },
     "metadata": {
      "needs_background": "light"
     }
    }
   ],
   "metadata": {}
  },
  {
   "cell_type": "code",
   "execution_count": 11,
   "source": [
    "train_df['target'].value_counts().sort_index()"
   ],
   "outputs": [
    {
     "output_type": "execute_result",
     "data": {
      "text/plain": [
       "0     475\n",
       "1     896\n",
       "2    1511\n",
       "3    1055\n",
       "Name: target, dtype: int64"
      ]
     },
     "metadata": {},
     "execution_count": 11
    }
   ],
   "metadata": {}
  },
  {
   "cell_type": "code",
   "execution_count": 12,
   "source": [
    "fig, ax = plt.subplots(figsize=(8, 4))\n",
    "sns.boxenplot(data=train_df, x='target', y='sorting_date', ax=ax)\n",
    "ax.grid()"
   ],
   "outputs": [
    {
     "output_type": "display_data",
     "data": {
      "text/plain": [
       "<Figure size 576x288 with 1 Axes>"
      ],
      "image/png": "[encoded data removed]"
     },
     "metadata": {
      "needs_background": "light"
     }
    }
   ],
   "metadata": {}
  },
  {
   "cell_type": "code",
   "execution_count": 13,
   "source": [
    "train_df.groupby('target')['sorting_date'].agg(['min', 'max', 'median', 'size'])"
   ],
   "outputs": [
    {
     "output_type": "execute_result",
     "data": {
      "text/plain": [
       "         min   max  median  size\n",
       "target                          \n",
       "0       1440  1600    1574   475\n",
       "1       1601  1700    1655   896\n",
       "2       1701  1800    1770  1511\n",
       "3       1801  1991    1841  1055"
      ],
      "text/html": [
       "<div>\n",
       "<style scoped>\n",
       "    .dataframe tbody tr th:only-of-type {\n",
       "        vertical-align: middle;\n",
       "    }\n",
       "\n",
       "    .dataframe tbody tr th {\n",
       "        vertical-align: top;\n",
       "    }\n",
       "\n",
       "    .dataframe thead th {\n",
       "        text-align: right;\n",
       "    }\n",
       "</style>\n",
       "<table border=\"1\" class=\"dataframe\">\n",
       "  <thead>\n",
       "    <tr style=\"text-align: right;\">\n",
       "      <th></th>\n",
       "      <th>min</th>\n",
       "      <th>max</th>\n",
       "      <th>median</th>\n",
       "      <th>size</th>\n",
       "    </tr>\n",
       "    <tr>\n",
       "      <th>target</th>\n",
       "      <th></th>\n",
       "      <th></th>\n",
       "      <th></th>\n",
       "      <th></th>\n",
       "    </tr>\n",
       "  </thead>\n",
       "  <tbody>\n",
       "    <tr>\n",
       "      <th>0</th>\n",
       "      <td>1440</td>\n",
       "      <td>1600</td>\n",
       "      <td>1574</td>\n",
       "      <td>475</td>\n",
       "    </tr>\n",
       "    <tr>\n",
       "      <th>1</th>\n",
       "      <td>1601</td>\n",
       "      <td>1700</td>\n",
       "      <td>1655</td>\n",
       "      <td>896</td>\n",
       "    </tr>\n",
       "    <tr>\n",
       "      <th>2</th>\n",
       "      <td>1701</td>\n",
       "      <td>1800</td>\n",
       "      <td>1770</td>\n",
       "      <td>1511</td>\n",
       "    </tr>\n",
       "    <tr>\n",
       "      <th>3</th>\n",
       "      <td>1801</td>\n",
       "      <td>1991</td>\n",
       "      <td>1841</td>\n",
       "      <td>1055</td>\n",
       "    </tr>\n",
       "  </tbody>\n",
       "</table>\n",
       "</div>"
      ]
     },
     "metadata": {},
     "execution_count": 13
    }
   ],
   "metadata": {}
  },
  {
   "cell_type": "code",
   "execution_count": null,
   "source": [],
   "outputs": [],
   "metadata": {}
  }
 ],
 "metadata": {
  "orig_nbformat": 4,
  "language_info": {
   "name": "python"
  }
 },
 "nbformat": 4,
 "nbformat_minor": 2
}