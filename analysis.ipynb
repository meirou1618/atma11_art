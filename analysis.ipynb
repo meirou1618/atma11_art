{
 "cells": [
  {
   "cell_type": "code",
   "execution_count": 2,
   "source": [
    "import os\r\n",
    "import pandas as pd\r\n",
    "from glob import glob\r\n",
    "import matplotlib.pyplot as plt\r\n",
    "import seaborn as sns\r\n",
    "import numpy as np"
   ],
   "outputs": [],
   "metadata": {}
  },
  {
   "cell_type": "code",
   "execution_count": 1,
   "source": [
    "!pip install python-vivid"
   ],
   "outputs": [
    {
     "output_type": "stream",
     "name": "stdout",
     "text": [
      "Collecting python-vivid\n",
      "  Downloading python_vivid-0.3.3.4-py3-none-any.whl (76 kB)\n",
      "Requirement already satisfied: tqdm in c:\\users\\明朗\\appdata\\local\\programs\\python\\python39\\lib\\site-packages (from python-vivid) (4.60.0)\n",
      "Requirement already satisfied: joblib in c:\\users\\明朗\\appdata\\local\\programs\\python\\python39\\lib\\site-packages (from python-vivid) (1.0.1)\n",
      "Collecting optuna\n",
      "  Downloading optuna-2.8.0-py3-none-any.whl (301 kB)\n",
      "Collecting tabulate\n",
      "  Downloading tabulate-0.8.9-py3-none-any.whl (25 kB)\n",
      "Requirement already satisfied: scipy in c:\\users\\明朗\\appdata\\local\\programs\\python\\python39\\lib\\site-packages (from python-vivid) (1.6.3)\n",
      "Requirement already satisfied: matplotlib in c:\\users\\明朗\\appdata\\local\\programs\\python\\python39\\lib\\site-packages (from python-vivid) (3.4.2)\n",
      "Collecting xgboost\n",
      "  Downloading xgboost-1.4.2-py3-none-win_amd64.whl (97.8 MB)\n",
      "Collecting lightgbm\n",
      "  Downloading lightgbm-3.2.1-py3-none-win_amd64.whl (1.0 MB)\n",
      "Requirement already satisfied: seaborn in c:\\users\\明朗\\appdata\\local\\programs\\python\\python39\\lib\\site-packages (from python-vivid) (0.11.1)\n",
      "Collecting feather-format\n",
      "  Downloading feather-format-0.4.1.tar.gz (3.2 kB)\n",
      "Collecting networkx\n",
      "  Downloading networkx-2.5.1-py3-none-any.whl (1.6 MB)\n",
      "Requirement already satisfied: numpy in c:\\users\\明朗\\appdata\\local\\programs\\python\\python39\\lib\\site-packages (from python-vivid) (1.19.5)\n",
      "Requirement already satisfied: pandas in c:\\users\\明朗\\appdata\\local\\programs\\python\\python39\\lib\\site-packages (from python-vivid) (1.2.4)\n",
      "Requirement already satisfied: scikit-learn in c:\\users\\明朗\\appdata\\local\\programs\\python\\python39\\lib\\site-packages (from python-vivid) (0.24.2)\n",
      "Collecting pyarrow>=0.4.0\n",
      "  Downloading pyarrow-4.0.1-cp39-cp39-win_amd64.whl (13.3 MB)\n",
      "Requirement already satisfied: wheel in c:\\users\\明朗\\appdata\\local\\programs\\python\\python39\\lib\\site-packages (from lightgbm->python-vivid) (0.36.2)\n",
      "Requirement already satisfied: threadpoolctl>=2.0.0 in c:\\users\\明朗\\appdata\\local\\programs\\python\\python39\\lib\\site-packages (from scikit-learn->python-vivid) (2.1.0)\n",
      "Requirement already satisfied: python-dateutil>=2.7 in c:\\users\\明朗\\appdata\\local\\programs\\python\\python39\\lib\\site-packages (from matplotlib->python-vivid) (2.8.1)\n",
      "Requirement already satisfied: cycler>=0.10 in c:\\users\\明朗\\appdata\\local\\programs\\python\\python39\\lib\\site-packages (from matplotlib->python-vivid) (0.10.0)\n",
      "Requirement already satisfied: pyparsing>=2.2.1 in c:\\users\\明朗\\appdata\\local\\programs\\python\\python39\\lib\\site-packages (from matplotlib->python-vivid) (2.4.7)\n",
      "Requirement already satisfied: kiwisolver>=1.0.1 in c:\\users\\明朗\\appdata\\local\\programs\\python\\python39\\lib\\site-packages (from matplotlib->python-vivid) (1.3.1)\n",
      "Requirement already satisfied: pillow>=6.2.0 in c:\\users\\明朗\\appdata\\local\\programs\\python\\python39\\lib\\site-packages (from matplotlib->python-vivid) (8.2.0)\n",
      "Requirement already satisfied: six in c:\\users\\明朗\\appdata\\local\\programs\\python\\python39\\lib\\site-packages (from cycler>=0.10->matplotlib->python-vivid) (1.15.0)\n"
     ]
    },
    {
     "output_type": "stream",
     "name": "stderr",
     "text": [
      "WARNING: You are using pip version 21.1.1; however, version 21.1.3 is available.\n",
      "You should consider upgrading via the 'c:\\users\\明朗\\appdata\\local\\programs\\python\\python39\\python.exe -m pip install --upgrade pip' command.\n"
     ]
    },
    {
     "output_type": "stream",
     "name": "stdout",
     "text": [
      "Collecting decorator<5,>=4.3\n",
      "  Downloading decorator-4.4.2-py2.py3-none-any.whl (9.2 kB)\n",
      "Collecting cliff\n",
      "  Downloading cliff-3.8.0-py3-none-any.whl (80 kB)\n",
      "Collecting cmaes>=0.8.2\n",
      "  Downloading cmaes-0.8.2-py3-none-any.whl (15 kB)\n",
      "Collecting alembic\n",
      "  Downloading alembic-1.6.5-py2.py3-none-any.whl (164 kB)\n",
      "Collecting colorlog\n",
      "  Downloading colorlog-5.0.1-py2.py3-none-any.whl (10 kB)\n",
      "Collecting packaging>=20.0\n",
      "  Downloading packaging-21.0-py3-none-any.whl (40 kB)\n",
      "Collecting sqlalchemy>=1.1.0\n",
      "  Downloading SQLAlchemy-1.4.21-cp39-cp39-win_amd64.whl (1.5 MB)\n",
      "Collecting greenlet!=0.4.17\n",
      "  Downloading greenlet-1.1.0-cp39-cp39-win_amd64.whl (95 kB)\n",
      "Collecting python-editor>=0.3\n",
      "  Downloading python_editor-1.0.4-py3-none-any.whl (4.9 kB)\n",
      "Collecting Mako\n",
      "  Downloading Mako-1.1.4-py2.py3-none-any.whl (75 kB)\n",
      "Requirement already satisfied: PyYAML>=3.12 in c:\\users\\明朗\\appdata\\local\\programs\\python\\python39\\lib\\site-packages (from cliff->optuna->python-vivid) (5.4.1)\n",
      "Collecting PrettyTable>=0.7.2\n",
      "  Downloading prettytable-2.1.0-py3-none-any.whl (22 kB)\n",
      "Collecting cmd2>=1.0.0\n",
      "  Downloading cmd2-2.1.2-py3-none-any.whl (141 kB)\n",
      "Collecting stevedore>=2.0.1\n",
      "  Downloading stevedore-3.3.0-py3-none-any.whl (49 kB)\n",
      "Collecting pbr!=2.1.0,>=2.0.0\n",
      "  Downloading pbr-5.6.0-py2.py3-none-any.whl (111 kB)\n",
      "Collecting attrs>=16.3.0\n",
      "  Downloading attrs-21.2.0-py2.py3-none-any.whl (53 kB)\n",
      "Requirement already satisfied: colorama>=0.3.7 in c:\\users\\明朗\\appdata\\local\\programs\\python\\python39\\lib\\site-packages (from cmd2>=1.0.0->cliff->optuna->python-vivid) (0.4.4)\n",
      "Collecting pyreadline3\n",
      "  Downloading pyreadline3-3.3-py3-none-any.whl (95 kB)\n",
      "Requirement already satisfied: wcwidth>=0.1.7 in c:\\users\\明朗\\appdata\\local\\programs\\python\\python39\\lib\\site-packages (from cmd2>=1.0.0->cliff->optuna->python-vivid) (0.2.5)\n",
      "Collecting pyperclip>=1.6\n",
      "  Downloading pyperclip-1.8.2.tar.gz (20 kB)\n",
      "Collecting MarkupSafe>=0.9.2\n",
      "  Downloading MarkupSafe-2.0.1-cp39-cp39-win_amd64.whl (14 kB)\n",
      "Requirement already satisfied: pytz>=2017.3 in c:\\users\\明朗\\appdata\\local\\programs\\python\\python39\\lib\\site-packages (from pandas->python-vivid) (2021.1)\n",
      "Building wheels for collected packages: feather-format, pyperclip\n",
      "  Building wheel for feather-format (setup.py): started\n",
      "  Building wheel for feather-format (setup.py): finished with status 'done'\n",
      "  Created wheel for feather-format: filename=feather_format-0.4.1-py3-none-any.whl size=2458 sha256=a4049d7209de5b6e2995a6a4161e917cf849760a3361b62233993512f040b68c\n",
      "  Stored in directory: c:\\users\\明朗\\appdata\\local\\pip\\cache\\wheels\\e3\\dc\\eb\\3a9468e9322c8284d7a53eab23e7a4bab6f271fff7a5871e2f\n",
      "  Building wheel for pyperclip (setup.py): started\n",
      "  Building wheel for pyperclip (setup.py): finished with status 'done'\n",
      "  Created wheel for pyperclip: filename=pyperclip-1.8.2-py3-none-any.whl size=11107 sha256=da39ffc4ab7fcc3ef68e6f3eca1d6ca13e0e3629fbffa0f98861bef7d7c144fb\n",
      "  Stored in directory: c:\\users\\明朗\\appdata\\local\\pip\\cache\\wheels\\0c\\09\\9e\\49e21a6840ef7955b06d47394afef0058f0378c0914e48b8b8\n",
      "Successfully built feather-format pyperclip\n",
      "Installing collected packages: pyreadline3, pyperclip, pbr, MarkupSafe, greenlet, attrs, stevedore, sqlalchemy, python-editor, PrettyTable, Mako, cmd2, pyarrow, packaging, decorator, colorlog, cmaes, cliff, alembic, xgboost, tabulate, optuna, networkx, lightgbm, feather-format, python-vivid\n",
      "  Attempting uninstall: decorator\n",
      "    Found existing installation: decorator 5.0.7\n",
      "    Uninstalling decorator-5.0.7:\n",
      "      Successfully uninstalled decorator-5.0.7\n",
      "Successfully installed Mako-1.1.4 MarkupSafe-2.0.1 PrettyTable-2.1.0 alembic-1.6.5 attrs-21.2.0 cliff-3.8.0 cmaes-0.8.2 cmd2-2.1.2 colorlog-5.0.1 decorator-4.4.2 feather-format-0.4.1 greenlet-1.1.0 lightgbm-3.2.1 networkx-2.5.1 optuna-2.8.0 packaging-21.0 pbr-5.6.0 pyarrow-4.0.1 pyperclip-1.8.2 pyreadline3-3.3 python-editor-1.0.4 python-vivid-0.3.3.4 sqlalchemy-1.4.21 stevedore-3.3.0 tabulate-0.8.9 xgboost-1.4.2\n"
     ]
    }
   ],
   "metadata": {}
  },
  {
   "cell_type": "code",
   "execution_count": 3,
   "source": [
    "INPUT_data = 'data/'\r\n",
    "INPUT_photo = os.path.join(INPUT_data, 'photos/')\r\n",
    "\r\n",
    "OUTPUT = 'out_put/'\r\n",
    "os.makedirs(OUTPUT, exist_ok=True)\r\n",
    "\r\n",
    "photo_pathes = glob(os.path.join(INPUT_photo, '*.jpg'))"
   ],
   "outputs": [],
   "metadata": {}
  },
  {
   "cell_type": "code",
   "execution_count": null,
   "source": [],
   "outputs": [],
   "metadata": {}
  },
  {
   "cell_type": "code",
   "execution_count": 6,
   "source": [
    "train_df = pd.read_csv(os.path.join(INPUT_data, 'train.csv'))\r\n",
    "test_df = pd.read_csv(os.path.join(INPUT_data, 'test.csv'))\r\n",
    "\r\n",
    "material_df = pd.read_csv(os.path.join(INPUT_data, 'materials.csv'))\r\n",
    "technique_df = pd.read_csv(os.path.join(INPUT_data, 'techniques.csv'))"
   ],
   "outputs": [],
   "metadata": {}
  },
  {
   "cell_type": "code",
   "execution_count": 7,
   "source": [
    "!pip install matplotlib_venn"
   ],
   "outputs": [
    {
     "output_type": "stream",
     "name": "stdout",
     "text": [
      "Collecting matplotlib_venn\n",
      "  Downloading matplotlib-venn-0.11.6.tar.gz (29 kB)\n",
      "Requirement already satisfied: matplotlib in c:\\users\\明朗\\appdata\\local\\programs\\python\\python39\\lib\\site-packages (from matplotlib_venn) (3.4.2)\n",
      "Requirement already satisfied: numpy in c:\\users\\明朗\\appdata\\local\\programs\\python\\python39\\lib\\site-packages (from matplotlib_venn) (1.19.5)\n",
      "Requirement already satisfied: scipy in c:\\users\\明朗\\appdata\\local\\programs\\python\\python39\\lib\\site-packages (from matplotlib_venn) (1.6.3)\n",
      "Requirement already satisfied: cycler>=0.10 in c:\\users\\明朗\\appdata\\local\\programs\\python\\python39\\lib\\site-packages (from matplotlib->matplotlib_venn) (0.10.0)\n",
      "Requirement already satisfied: pillow>=6.2.0 in c:\\users\\明朗\\appdata\\local\\programs\\python\\python39\\lib\\site-packages (from matplotlib->matplotlib_venn) (8.2.0)\n",
      "Requirement already satisfied: pyparsing>=2.2.1 in c:\\users\\明朗\\appdata\\local\\programs\\python\\python39\\lib\\site-packages (from matplotlib->matplotlib_venn) (2.4.7)\n",
      "Requirement already satisfied: python-dateutil>=2.7 in c:\\users\\明朗\\appdata\\local\\programs\\python\\python39\\lib\\site-packages (from matplotlib->matplotlib_venn) (2.8.1)\n",
      "Requirement already satisfied: kiwisolver>=1.0.1 in c:\\users\\明朗\\appdata\\local\\programs\\python\\python39\\lib\\site-packages (from matplotlib->matplotlib_venn) (1.3.1)\n",
      "Requirement already satisfied: six in c:\\users\\明朗\\appdata\\local\\programs\\python\\python39\\lib\\site-packages (from cycler>=0.10->matplotlib->matplotlib_venn) (1.15.0)\n",
      "Building wheels for collected packages: matplotlib-venn\n",
      "  Building wheel for matplotlib-venn (setup.py): started\n",
      "  Building wheel for matplotlib-venn (setup.py): finished with status 'done'\n",
      "  Created wheel for matplotlib-venn: filename=matplotlib_venn-0.11.6-py3-none-any.whl size=32062 sha256=00cc35b487bafaef9f08efe4a11b5bb6868066b395c2c3cf6bdaa645016f71c8\n",
      "  Stored in directory: c:\\users\\明朗\\appdata\\local\\pip\\cache\\wheels\\42\\1c\\65\\1a733895cd94885d1a97eee84ec7595ff7fddc277a45bcacf5\n",
      "Successfully built matplotlib-venn\n",
      "Installing collected packages: matplotlib-venn\n",
      "Successfully installed matplotlib-venn-0.11.6\n"
     ]
    },
    {
     "output_type": "stream",
     "name": "stderr",
     "text": [
      "WARNING: You are using pip version 21.1.1; however, version 21.1.3 is available.\n",
      "You should consider upgrading via the 'c:\\users\\明朗\\appdata\\local\\programs\\python\\python39\\python.exe -m pip install --upgrade pip' command.\n"
     ]
    }
   ],
   "metadata": {}
  },
  {
   "cell_type": "code",
   "execution_count": 8,
   "source": [
    "from matplotlib_venn import venn2"
   ],
   "outputs": [],
   "metadata": {}
  },
  {
   "cell_type": "code",
   "execution_count": 9,
   "source": [
    "input_df = technique_df\r\n",
    "\r\n",
    "fig, axes = plt.subplots(figsize=(12,5), ncols=2)\r\n",
    "\r\n",
    "venn2(subsets=(\r\n",
    "    set(train_df['object_id']), set(input_df['object_id'])),set_labels=('train', 'input'), ax=axes[0])\r\n",
    "\r\n",
    "venn2(subsets = (set(test_df['object_id']), set(input_df['object_id'])), set_labels=('test', 'input'), ax=axes[1])"
   ],
   "outputs": [
    {
     "output_type": "execute_result",
     "data": {
      "text/plain": [
       "<matplotlib_venn._common.VennDiagram at 0x256033f9670>"
      ]
     },
     "metadata": {},
     "execution_count": 9
    },
    {
     "output_type": "display_data",
     "data": {
      "text/plain": [
       "<Figure size 864x360 with 2 Axes>"
      ],
      "image/png": "[encoded data removed]"
     },
     "metadata": {}
    }
   ],
   "metadata": {}
  },
  {
   "cell_type": "code",
   "execution_count": 10,
   "source": [
    "input_df = material_df\r\n",
    "\r\n",
    "fig, axes = plt.subplots(figsize=(12,5), ncols=2)\r\n",
    "\r\n",
    "venn2(subsets=(set(train_df['object_id']), set(input_df['object_id'])), set_labels=('train', 'input'), ax=axes[0])\r\n",
    "venn2(subsets=(set(test_df['object_id']), set(input_df['object_id'])), set_labels=('test', 'input'), ax=axes[1])"
   ],
   "outputs": [
    {
     "output_type": "execute_result",
     "data": {
      "text/plain": [
       "<matplotlib_venn._common.VennDiagram at 0x25603684fa0>"
      ]
     },
     "metadata": {},
     "execution_count": 10
    },
    {
     "output_type": "display_data",
     "data": {
      "text/plain": [
       "<Figure size 864x360 with 2 Axes>"
      ],
      "image/png": "[encoded data removed]"
     },
     "metadata": {}
    }
   ],
   "metadata": {}
  },
  {
   "cell_type": "code",
   "execution_count": 11,
   "source": [
    "train_df.head()"
   ],
   "outputs": [
    {
     "output_type": "execute_result",
     "data": {
      "text/plain": [
       "              object_id  sorting_date         art_series_id  target\n",
       "0  002bff09b09998d0be65          1631  509357f67692a6a45626       1\n",
       "1  00309fb1ef05416f9c1f          1900  7987b47bbe5dc3039179       3\n",
       "2  003a1562e97f79ba96dc          1834  ded7c3c9636708e5b14c       3\n",
       "3  004890880e8e7431147b          1743  582ac2d7f0cef195b605       2\n",
       "4  00718c32602425f504c1          1885  64c907f0c08dce4fb8e8       3"
      ],
      "text/html": [
       "<div>\n",
       "<style scoped>\n",
       "    .dataframe tbody tr th:only-of-type {\n",
       "        vertical-align: middle;\n",
       "    }\n",
       "\n",
       "    .dataframe tbody tr th {\n",
       "        vertical-align: top;\n",
       "    }\n",
       "\n",
       "    .dataframe thead th {\n",
       "        text-align: right;\n",
       "    }\n",
       "</style>\n",
       "<table border=\"1\" class=\"dataframe\">\n",
       "  <thead>\n",
       "    <tr style=\"text-align: right;\">\n",
       "      <th></th>\n",
       "      <th>object_id</th>\n",
       "      <th>sorting_date</th>\n",
       "      <th>art_series_id</th>\n",
       "      <th>target</th>\n",
       "    </tr>\n",
       "  </thead>\n",
       "  <tbody>\n",
       "    <tr>\n",
       "      <th>0</th>\n",
       "      <td>002bff09b09998d0be65</td>\n",
       "      <td>1631</td>\n",
       "      <td>509357f67692a6a45626</td>\n",
       "      <td>1</td>\n",
       "    </tr>\n",
       "    <tr>\n",
       "      <th>1</th>\n",
       "      <td>00309fb1ef05416f9c1f</td>\n",
       "      <td>1900</td>\n",
       "      <td>7987b47bbe5dc3039179</td>\n",
       "      <td>3</td>\n",
       "    </tr>\n",
       "    <tr>\n",
       "      <th>2</th>\n",
       "      <td>003a1562e97f79ba96dc</td>\n",
       "      <td>1834</td>\n",
       "      <td>ded7c3c9636708e5b14c</td>\n",
       "      <td>3</td>\n",
       "    </tr>\n",
       "    <tr>\n",
       "      <th>3</th>\n",
       "      <td>004890880e8e7431147b</td>\n",
       "      <td>1743</td>\n",
       "      <td>582ac2d7f0cef195b605</td>\n",
       "      <td>2</td>\n",
       "    </tr>\n",
       "    <tr>\n",
       "      <th>4</th>\n",
       "      <td>00718c32602425f504c1</td>\n",
       "      <td>1885</td>\n",
       "      <td>64c907f0c08dce4fb8e8</td>\n",
       "      <td>3</td>\n",
       "    </tr>\n",
       "  </tbody>\n",
       "</table>\n",
       "</div>"
      ]
     },
     "metadata": {},
     "execution_count": 11
    }
   ],
   "metadata": {}
  },
  {
   "cell_type": "code",
   "execution_count": 12,
   "source": [
    "fig, ax = plt.subplots(figsize=(8,4))\r\n",
    "sns.countplot(data=train_df, x='target', ax=ax)\r\n",
    "ax.grid()"
   ],
   "outputs": [
    {
     "output_type": "display_data",
     "data": {
      "text/plain": [
       "<Figure size 576x288 with 1 Axes>"
      ],
      "image/png": "[encoded data removed]"
     },
     "metadata": {
      "needs_background": "light"
     }
    }
   ],
   "metadata": {}
  },
  {
   "cell_type": "code",
   "execution_count": 13,
   "source": [
    "train_df['target'].value_counts().sort_index()"
   ],
   "outputs": [
    {
     "output_type": "execute_result",
     "data": {
      "text/plain": [
       "0     475\n",
       "1     896\n",
       "2    1511\n",
       "3    1055\n",
       "Name: target, dtype: int64"
      ]
     },
     "metadata": {},
     "execution_count": 13
    }
   ],
   "metadata": {}
  },
  {
   "cell_type": "code",
   "execution_count": 14,
   "source": [
    "fig, ax = plt.subplots(figsize=(8, 4))\r\n",
    "sns.boxenplot(data=train_df, x='target', y='sorting_date', ax=ax)\r\n",
    "ax.grid()"
   ],
   "outputs": [
    {
     "output_type": "display_data",
     "data": {
      "text/plain": [
       "<Figure size 576x288 with 1 Axes>"
      ],
      "image/png": "[encoded data removed]"
     },
     "metadata": {
      "needs_background": "light"
     }
    }
   ],
   "metadata": {}
  },
  {
   "cell_type": "code",
   "execution_count": 15,
   "source": [
    "train_df.groupby('target')['sorting_date'].agg(['min', 'max', 'median', 'size'])"
   ],
   "outputs": [
    {
     "output_type": "execute_result",
     "data": {
      "text/plain": [
       "         min   max  median  size\n",
       "target                          \n",
       "0       1440  1600    1574   475\n",
       "1       1601  1700    1655   896\n",
       "2       1701  1800    1770  1511\n",
       "3       1801  1991    1841  1055"
      ],
      "text/html": [
       "<div>\n",
       "<style scoped>\n",
       "    .dataframe tbody tr th:only-of-type {\n",
       "        vertical-align: middle;\n",
       "    }\n",
       "\n",
       "    .dataframe tbody tr th {\n",
       "        vertical-align: top;\n",
       "    }\n",
       "\n",
       "    .dataframe thead th {\n",
       "        text-align: right;\n",
       "    }\n",
       "</style>\n",
       "<table border=\"1\" class=\"dataframe\">\n",
       "  <thead>\n",
       "    <tr style=\"text-align: right;\">\n",
       "      <th></th>\n",
       "      <th>min</th>\n",
       "      <th>max</th>\n",
       "      <th>median</th>\n",
       "      <th>size</th>\n",
       "    </tr>\n",
       "    <tr>\n",
       "      <th>target</th>\n",
       "      <th></th>\n",
       "      <th></th>\n",
       "      <th></th>\n",
       "      <th></th>\n",
       "    </tr>\n",
       "  </thead>\n",
       "  <tbody>\n",
       "    <tr>\n",
       "      <th>0</th>\n",
       "      <td>1440</td>\n",
       "      <td>1600</td>\n",
       "      <td>1574</td>\n",
       "      <td>475</td>\n",
       "    </tr>\n",
       "    <tr>\n",
       "      <th>1</th>\n",
       "      <td>1601</td>\n",
       "      <td>1700</td>\n",
       "      <td>1655</td>\n",
       "      <td>896</td>\n",
       "    </tr>\n",
       "    <tr>\n",
       "      <th>2</th>\n",
       "      <td>1701</td>\n",
       "      <td>1800</td>\n",
       "      <td>1770</td>\n",
       "      <td>1511</td>\n",
       "    </tr>\n",
       "    <tr>\n",
       "      <th>3</th>\n",
       "      <td>1801</td>\n",
       "      <td>1991</td>\n",
       "      <td>1841</td>\n",
       "      <td>1055</td>\n",
       "    </tr>\n",
       "  </tbody>\n",
       "</table>\n",
       "</div>"
      ]
     },
     "metadata": {},
     "execution_count": 15
    }
   ],
   "metadata": {}
  },
  {
   "cell_type": "code",
   "execution_count": 38,
   "source": [
    "##image functions\r\n",
    "def to_img_path(object_id):\r\n",
    "    return os.path.join(INPUT_photo, f'{object_id}.jpg')\r\n",
    "\r\n",
    "def read_image(object_id):\r\n",
    "    return Image.open(to_img_path(object_id))"
   ],
   "outputs": [],
   "metadata": {}
  },
  {
   "cell_type": "code",
   "execution_count": 51,
   "source": [
    "train_df.head()"
   ],
   "outputs": [
    {
     "output_type": "execute_result",
     "data": {
      "text/plain": [
       "              object_id  sorting_date         art_series_id  target\n",
       "0  002bff09b09998d0be65          1631  509357f67692a6a45626       1\n",
       "1  00309fb1ef05416f9c1f          1900  7987b47bbe5dc3039179       3\n",
       "2  003a1562e97f79ba96dc          1834  ded7c3c9636708e5b14c       3\n",
       "3  004890880e8e7431147b          1743  582ac2d7f0cef195b605       2\n",
       "4  00718c32602425f504c1          1885  64c907f0c08dce4fb8e8       3"
      ],
      "text/html": [
       "<div>\n",
       "<style scoped>\n",
       "    .dataframe tbody tr th:only-of-type {\n",
       "        vertical-align: middle;\n",
       "    }\n",
       "\n",
       "    .dataframe tbody tr th {\n",
       "        vertical-align: top;\n",
       "    }\n",
       "\n",
       "    .dataframe thead th {\n",
       "        text-align: right;\n",
       "    }\n",
       "</style>\n",
       "<table border=\"1\" class=\"dataframe\">\n",
       "  <thead>\n",
       "    <tr style=\"text-align: right;\">\n",
       "      <th></th>\n",
       "      <th>object_id</th>\n",
       "      <th>sorting_date</th>\n",
       "      <th>art_series_id</th>\n",
       "      <th>target</th>\n",
       "    </tr>\n",
       "  </thead>\n",
       "  <tbody>\n",
       "    <tr>\n",
       "      <th>0</th>\n",
       "      <td>002bff09b09998d0be65</td>\n",
       "      <td>1631</td>\n",
       "      <td>509357f67692a6a45626</td>\n",
       "      <td>1</td>\n",
       "    </tr>\n",
       "    <tr>\n",
       "      <th>1</th>\n",
       "      <td>00309fb1ef05416f9c1f</td>\n",
       "      <td>1900</td>\n",
       "      <td>7987b47bbe5dc3039179</td>\n",
       "      <td>3</td>\n",
       "    </tr>\n",
       "    <tr>\n",
       "      <th>2</th>\n",
       "      <td>003a1562e97f79ba96dc</td>\n",
       "      <td>1834</td>\n",
       "      <td>ded7c3c9636708e5b14c</td>\n",
       "      <td>3</td>\n",
       "    </tr>\n",
       "    <tr>\n",
       "      <th>3</th>\n",
       "      <td>004890880e8e7431147b</td>\n",
       "      <td>1743</td>\n",
       "      <td>582ac2d7f0cef195b605</td>\n",
       "      <td>2</td>\n",
       "    </tr>\n",
       "    <tr>\n",
       "      <th>4</th>\n",
       "      <td>00718c32602425f504c1</td>\n",
       "      <td>1885</td>\n",
       "      <td>64c907f0c08dce4fb8e8</td>\n",
       "      <td>3</td>\n",
       "    </tr>\n",
       "  </tbody>\n",
       "</table>\n",
       "</div>"
      ]
     },
     "metadata": {},
     "execution_count": 51
    }
   ],
   "metadata": {}
  },
  {
   "cell_type": "code",
   "execution_count": 45,
   "source": [
    "meta_df = train_df[['target', 'object_id']].copy()\r\n",
    "meta_df['object_path'] = meta_df['object_id'].map(to_img_path)\r\n",
    "\r\n",
    "meta_df.head\r\n",
    "\r\n"
   ],
   "outputs": [
    {
     "output_type": "execute_result",
     "data": {
      "text/plain": [
       "<bound method NDFrame.head of       target             object_id                           object_path\n",
       "0          1  002bff09b09998d0be65  data/photos/002bff09b09998d0be65.jpg\n",
       "1          3  00309fb1ef05416f9c1f  data/photos/00309fb1ef05416f9c1f.jpg\n",
       "2          3  003a1562e97f79ba96dc  data/photos/003a1562e97f79ba96dc.jpg\n",
       "3          2  004890880e8e7431147b  data/photos/004890880e8e7431147b.jpg\n",
       "4          3  00718c32602425f504c1  data/photos/00718c32602425f504c1.jpg\n",
       "...      ...                   ...                                   ...\n",
       "3932       3  ffa3259fff8e6f3818a1  data/photos/ffa3259fff8e6f3818a1.jpg\n",
       "3933       1  ffd4d361756587883e48  data/photos/ffd4d361756587883e48.jpg\n",
       "3934       2  ffd794b7b311b7b7fd92  data/photos/ffd794b7b311b7b7fd92.jpg\n",
       "3935       3  ffe49bba69d06446de7e  data/photos/ffe49bba69d06446de7e.jpg\n",
       "3936       1  ffe77db10be3400bed53  data/photos/ffe77db10be3400bed53.jpg\n",
       "\n",
       "[3937 rows x 3 columns]>"
      ]
     },
     "metadata": {},
     "execution_count": 45
    }
   ],
   "metadata": {}
  },
  {
   "cell_type": "code",
   "execution_count": 47,
   "source": [
    "meta_df = test_df[[ 'object_id']].copy()\r\n",
    "meta_df['object_path'] = meta_df['object_id'].map(to_img_path)\r\n",
    "meta_"
   ],
   "outputs": [
    {
     "output_type": "execute_result",
     "data": {
      "text/plain": [
       "<bound method NDFrame.head of                  object_id                           object_path\n",
       "0     0009e50b94be36ccad39  data/photos/0009e50b94be36ccad39.jpg\n",
       "1     000bd5e82eb22f199f44  data/photos/000bd5e82eb22f199f44.jpg\n",
       "2     0015f44de1854f617516  data/photos/0015f44de1854f617516.jpg\n",
       "3     00388a678879ba1efa27  data/photos/00388a678879ba1efa27.jpg\n",
       "4     005e1e7c6496902d23f3  data/photos/005e1e7c6496902d23f3.jpg\n",
       "...                    ...                                   ...\n",
       "5914  ffbe65ad399b632dcbd0  data/photos/ffbe65ad399b632dcbd0.jpg\n",
       "5915  ffd7b2d646c0320c311a  data/photos/ffd7b2d646c0320c311a.jpg\n",
       "5916  ffdb93ede17d4501e530  data/photos/ffdb93ede17d4501e530.jpg\n",
       "5917  ffe111402004b0ed46b4  data/photos/ffe111402004b0ed46b4.jpg\n",
       "5918  fffdb3c248a7dcd3cccf  data/photos/fffdb3c248a7dcd3cccf.jpg\n",
       "\n",
       "[5919 rows x 2 columns]>"
      ]
     },
     "metadata": {},
     "execution_count": 47
    }
   ],
   "metadata": {}
  },
  {
   "cell_type": "code",
   "execution_count": 50,
   "source": [
    "meta_df.get('target', -1)"
   ],
   "outputs": [
    {
     "output_type": "execute_result",
     "data": {
      "text/plain": [
       "-1"
      ]
     },
     "metadata": {},
     "execution_count": 50
    }
   ],
   "metadata": {}
  },
  {
   "cell_type": "code",
   "execution_count": 54,
   "source": [
    "print(f'-------------{1: d} step---------------')"
   ],
   "outputs": [
    {
     "output_type": "stream",
     "name": "stdout",
     "text": [
      "-------------{1: d} step---------------\n"
     ]
    }
   ],
   "metadata": {}
  },
  {
   "cell_type": "code",
   "execution_count": null,
   "source": [],
   "outputs": [],
   "metadata": {}
  }
 ],
 "metadata": {
  "orig_nbformat": 4,
  "language_info": {
   "name": "python"
  }
 },
 "nbformat": 4,
 "nbformat_minor": 2
}